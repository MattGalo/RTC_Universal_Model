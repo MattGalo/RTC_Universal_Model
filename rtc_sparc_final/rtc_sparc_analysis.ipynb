{
 "cells": [
  {
   "cell_type": "markdown",
   "metadata": {},
   "source": [
    "# Analyse SPARC — Loi RTC\n",
    "Application de la loi RTC sur données SPARC simplifiées"
   ]
  },
  {
   "cell_type": "code",
   "execution_count": null,
   "metadata": {},
   "outputs": [],
   "source": [
    "import pandas as pd\n",
    "import matplotlib.pyplot as plt\n",
    "from rtc_utils import compute_drtc\n",
    "\n",
    "df = pd.read_csv('rtc_dataset_sample.csv')\n",
    "df['D_RTC'] = compute_drtc(df['mass'], df['volume'], df['age'])\n",
    "\n",
    "plt.plot(df['radius'], df['observed_velocity'], label='V_obs')\n",
    "plt.plot(df['radius'], df['D_RTC'], label='V_RTC (proxy)', linestyle='--')\n",
    "plt.xlabel('Rayon (kpc)')\n",
    "plt.ylabel('Vitesse (km/s) / D_RTC')\n",
    "plt.title('Comparaison V_obs vs Loi RTC')\n",
    "plt.legend()\n",
    "plt.grid()\n",
    "plt.show()"
   ]
  }
 ],
 "metadata": {
  "kernelspec": {
   "display_name": "Python 3",
   "language": "python",
   "name": "python3"
  },
  "language_info": {
   "name": "python"
  }
 },
 "nbformat": 4,
 "nbformat_minor": 4
}
